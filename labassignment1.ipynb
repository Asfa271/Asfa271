{
  "nbformat": 4,
  "nbformat_minor": 0,
  "metadata": {
    "colab": {
      "provenance": [],
      "authorship_tag": "ABX9TyM5sLr7pQwJnSuGOnimiB35",
      "include_colab_link": true
    },
    "kernelspec": {
      "name": "python3",
      "display_name": "Python 3"
    },
    "language_info": {
      "name": "python"
    }
  },
  "cells": [
    {
      "cell_type": "markdown",
      "metadata": {
        "id": "view-in-github",
        "colab_type": "text"
      },
      "source": [
        "<a href=\"https://colab.research.google.com/github/Asfa271/Asfa271/blob/main/labassignment1.ipynb\" target=\"_parent\"><img src=\"https://colab.research.google.com/assets/colab-badge.svg\" alt=\"Open In Colab\"/></a>"
      ]
    },
    {
      "cell_type": "code",
      "execution_count": 1,
      "metadata": {
        "colab": {
          "base_uri": "https://localhost:8080/"
        },
        "id": "f2OvuSgn_MIS",
        "outputId": "f85ffc10-fa0b-4580-ac66-3340683aa8a2"
      },
      "outputs": [
        {
          "output_type": "stream",
          "name": "stdout",
          "text": [
            "Shortest path: ['Islamabad', 'Rawalpindi', 'Quetta', 'Karachi']\n"
          ]
        }
      ],
      "source": [
        "\n",
        "from collections import deque\n",
        "\n",
        "def bfs_shortest_path(graph, start, goal):\n",
        "    # Queue to hold paths and the current node\n",
        "    queue = deque([[start]])\n",
        "    visited = set()  # To track visited nodes\n",
        "\n",
        "    while queue:\n",
        "        path = queue.popleft()  # Get the first path from the queue\n",
        "        city = path[-1]  # Get the last city from the path\n",
        "\n",
        "        if city == goal:  # If we've reached the destination\n",
        "            return path\n",
        "\n",
        "        if city not in visited:  # If the city hasn't been visited\n",
        "            visited.add(city)  # Mark as visited\n",
        "\n",
        "            for neighbor in graph[city]:  # Explore neighbors\n",
        "                new_path = list(path)\n",
        "                new_path.append(neighbor)  # Add neighbor to path\n",
        "                queue.append(new_path)  # Add new path to the queue\n",
        "\n",
        "    return None  # Return None if no path is found\n",
        "\n",
        "# Define the graph based on the connections\n",
        "city_graph = {\n",
        "    'Islamabad': ['Rawalpindi', 'Lahore', 'Peshawar'],\n",
        "    'Rawalpindi': ['Islamabad', 'Peshawar', 'Quetta'],\n",
        "    'Peshawar': ['Islamabad', 'Rawalpindi', 'Quetta'],\n",
        "    'Lahore': ['Islamabad', 'Multan', 'Quetta'],\n",
        "    'Multan': ['Lahore', 'Karachi', 'Quetta'],\n",
        "    'Quetta': ['Rawalpindi', 'Peshawar', 'Multan', 'Karachi'],\n",
        "    'Karachi': ['Multan', 'Quetta']\n",
        "}\n",
        "\n",
        "# Call the function with Islamabad as the start and Karachi as the goal\n",
        "shortest_path = bfs_shortest_path(city_graph, 'Islamabad', 'Karachi')\n",
        "print(\"Shortest path:\", shortest_path)\n"
      ]
    }
  ]
}